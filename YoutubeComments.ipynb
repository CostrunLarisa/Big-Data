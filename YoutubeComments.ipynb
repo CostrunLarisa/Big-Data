{
  "nbformat": 4,
  "nbformat_minor": 0,
  "metadata": {
    "colab": {
      "provenance": [],
      "authorship_tag": "ABX9TyOXtEan1o7+NPcJQ5T21bbQ",
      "include_colab_link": true
    },
    "kernelspec": {
      "name": "python3",
      "display_name": "Python 3"
    },
    "language_info": {
      "name": "python"
    }
  },
  "cells": [
    {
      "cell_type": "markdown",
      "metadata": {
        "id": "view-in-github",
        "colab_type": "text"
      },
      "source": [
        "<a href=\"https://colab.research.google.com/github/CostrunLarisa/Big-Data/blob/main/YoutubeComments.ipynb\" target=\"_parent\"><img src=\"https://colab.research.google.com/assets/colab-badge.svg\" alt=\"Open In Colab\"/></a>"
      ]
    },
    {
      "cell_type": "markdown",
      "source": [
        "## Citirea datelor"
      ],
      "metadata": {
        "id": "aYdBFxIeqcW-"
      }
    },
    {
      "cell_type": "code",
      "source": [
        "pip install pyspark\n"
      ],
      "metadata": {
        "colab": {
          "base_uri": "https://localhost:8080/"
        },
        "id": "gZ_30bKmkQgF",
        "outputId": "2b888ebc-8150-491b-b728-41d834f65e0c"
      },
      "execution_count": 4,
      "outputs": [
        {
          "output_type": "stream",
          "name": "stdout",
          "text": [
            "Looking in indexes: https://pypi.org/simple, https://us-python.pkg.dev/colab-wheels/public/simple/\n",
            "Collecting pyspark\n",
            "  Downloading pyspark-3.4.0.tar.gz (310.8 MB)\n",
            "\u001b[2K     \u001b[90m━━━━━━━━━━━━━━━━━━━━━━━━━━━━━━━━━━━━━━━\u001b[0m \u001b[32m310.8/310.8 MB\u001b[0m \u001b[31m4.9 MB/s\u001b[0m eta \u001b[36m0:00:00\u001b[0m\n",
            "\u001b[?25h  Preparing metadata (setup.py) ... \u001b[?25l\u001b[?25hdone\n",
            "Requirement already satisfied: py4j==0.10.9.7 in /usr/local/lib/python3.10/dist-packages (from pyspark) (0.10.9.7)\n",
            "Building wheels for collected packages: pyspark\n",
            "  Building wheel for pyspark (setup.py) ... \u001b[?25l\u001b[?25hdone\n",
            "  Created wheel for pyspark: filename=pyspark-3.4.0-py2.py3-none-any.whl size=311317130 sha256=196982f9f04abf2a54d8949be36989bda6f77b5f623f12b8c6cc56c63945bcf1\n",
            "  Stored in directory: /root/.cache/pip/wheels/7b/1b/4b/3363a1d04368e7ff0d408e57ff57966fcdf00583774e761327\n",
            "Successfully built pyspark\n",
            "Installing collected packages: pyspark\n",
            "Successfully installed pyspark-3.4.0\n"
          ]
        }
      ]
    },
    {
      "cell_type": "code",
      "execution_count": 18,
      "metadata": {
        "colab": {
          "base_uri": "https://localhost:8080/"
        },
        "id": "CyDJrLxMjDKr",
        "outputId": "a76823be-3dea-4d86-d5df-5494c7c3d84c"
      },
      "outputs": [
        {
          "output_type": "stream",
          "name": "stdout",
          "text": [
            "root\n",
            " |-- Video Name: string (nullable = true)\n",
            " |-- Channel Name: string (nullable = true)\n",
            " |-- Comment Id: string (nullable = true)\n",
            " |-- User Name: string (nullable = true)\n",
            " |-- Comment: string (nullable = true)\n",
            " |-- Date: string (nullable = true)\n",
            " |-- Likes: string (nullable = true)\n",
            "\n"
          ]
        }
      ],
      "source": [
        "from pyspark.sql import SparkSession\n",
        "spark = SparkSession.builder.appName('ytcomments').getOrCreate()\n",
        "data = spark.read.csv('sample_data/youtube_dataset.csv',inferSchema=True,\n",
        "                     header=True)\n",
        "data.printSchema()"
      ]
    },
    {
      "cell_type": "markdown",
      "source": [
        "## Data Preprocessing\n",
        "\n",
        "Vom elimina coloana \"User Name\", deoarece nu este un element relevant in analiza noastra."
      ],
      "metadata": {
        "id": "Uwdco7A8qHky"
      }
    },
    {
      "cell_type": "code",
      "source": [
        "# Stergem liniile care au coloana de like-uri sau comentariu null\n",
        "\n",
        "data = data.na.drop(subset=[\"Likes\", \"Comment\"])\n",
        "data = data.drop(\"User Name\")\n",
        "data.printSchema()\n",
        "data.columns"
      ],
      "metadata": {
        "colab": {
          "base_uri": "https://localhost:8080/"
        },
        "id": "W1GFHAPilzy8",
        "outputId": "8126983e-a419-4482-e959-8069be9e751c"
      },
      "execution_count": 36,
      "outputs": [
        {
          "output_type": "stream",
          "name": "stdout",
          "text": [
            "root\n",
            " |-- Video Name: string (nullable = true)\n",
            " |-- Channel Name: string (nullable = true)\n",
            " |-- Comment Id: string (nullable = true)\n",
            " |-- Comment: string (nullable = true)\n",
            " |-- Date: string (nullable = true)\n",
            " |-- Likes: double (nullable = true)\n",
            "\n"
          ]
        },
        {
          "output_type": "execute_result",
          "data": {
            "text/plain": [
              "['Video Name', 'Channel Name', 'Comment Id', 'Comment', 'Date', 'Likes']"
            ]
          },
          "metadata": {},
          "execution_count": 36
        }
      ]
    },
    {
      "cell_type": "code",
      "source": [
        "from pyspark.sql.functions import length\n",
        "\n",
        "#Adaugam o coloana noua, Comment_Length, pentru a evita procesarea fiecarei linii\n",
        "\n",
        "data = data.withColumn(\"Comment_Length\", length(data[\"Comment\"]))\n",
        "data.columns"
      ],
      "metadata": {
        "colab": {
          "base_uri": "https://localhost:8080/"
        },
        "id": "dl3QhIVa0od_",
        "outputId": "a4148545-d0b8-4e42-e7fb-b3558b69ec58"
      },
      "execution_count": 39,
      "outputs": [
        {
          "output_type": "execute_result",
          "data": {
            "text/plain": [
              "['Video Name',\n",
              " 'Channel Name',\n",
              " 'Comment Id',\n",
              " 'Comment',\n",
              " 'Date',\n",
              " 'Likes',\n",
              " 'Comment_Length']"
            ]
          },
          "metadata": {},
          "execution_count": 39
        }
      ]
    },
    {
      "cell_type": "markdown",
      "source": [
        "## Formatarea pentru MLlib"
      ],
      "metadata": {
        "id": "XmJD1nebqVB-"
      }
    },
    {
      "cell_type": "code",
      "source": [
        "from pyspark.ml.feature import VectorAssembler\n",
        "from pyspark.sql.types import ArrayType, DoubleType\n",
        "\n",
        "data = data.withColumn(\"Likes\", data[\"Likes\"].cast(\"double\"))\n",
        "assembler = VectorAssembler(inputCols=['Likes', 'Comment_Length'],\n",
        "                            outputCol='features')\n",
        "\n",
        "output = assembler.transform(data)\n",
        "final_data = output.select('features','Video Name')\n",
        "\n",
        "# Show the DataFrame\n",
        "final_data.show()"
      ],
      "metadata": {
        "colab": {
          "base_uri": "https://localhost:8080/"
        },
        "id": "Huizcxi9qQSs",
        "outputId": "373913c3-51ac-4a1e-9520-7ea035c3feb1"
      },
      "execution_count": 45,
      "outputs": [
        {
          "output_type": "stream",
          "name": "stdout",
          "text": [
            "+---------------+--------------------+\n",
            "|       features|          Video Name|\n",
            "+---------------+--------------------+\n",
            "| [98280.0,63.0]|Luis Fonsi - Desp...|\n",
            "|    [13.0,67.0]|Luis Fonsi - Desp...|\n",
            "|[370547.0,51.0]|Luis Fonsi - Desp...|\n",
            "|   [763.0,77.0]|Luis Fonsi - Desp...|\n",
            "|    [94.0,56.0]|Luis Fonsi - Desp...|\n",
            "|    [45.0,15.0]|Luis Fonsi - Desp...|\n",
            "| [36446.0,56.0]|Luis Fonsi - Desp...|\n",
            "|   [142.0,51.0]|Luis Fonsi - Desp...|\n",
            "|    [10.0,48.0]|Luis Fonsi - Desp...|\n",
            "|   [109.0,85.0]|Luis Fonsi - Desp...|\n",
            "|[321690.0,33.0]|Luis Fonsi - Desp...|\n",
            "|     [8.0,69.0]|Luis Fonsi - Desp...|\n",
            "|   [166.0,64.0]|Luis Fonsi - Desp...|\n",
            "|      [7.0,9.0]|Luis Fonsi - Desp...|\n",
            "|     [0.0,64.0]|Luis Fonsi - Desp...|\n",
            "|   [114.0,66.0]|Luis Fonsi - Desp...|\n",
            "| [10412.0,40.0]|Luis Fonsi - Desp...|\n",
            "|     [5.0,73.0]|Luis Fonsi - Desp...|\n",
            "|     [2.0,63.0]|Luis Fonsi - Desp...|\n",
            "|  [8075.0,55.0]|Luis Fonsi - Desp...|\n",
            "+---------------+--------------------+\n",
            "only showing top 20 rows\n",
            "\n"
          ]
        }
      ]
    },
    {
      "cell_type": "markdown",
      "source": [
        "## Impartirea setului de date"
      ],
      "metadata": {
        "id": "Nygd7cIS2A9-"
      }
    },
    {
      "cell_type": "code",
      "source": [
        "train_yt, test_yt = final_data.randomSplit([0.7,0.3])"
      ],
      "metadata": {
        "id": "ZAmVxXgi2DFh"
      },
      "execution_count": 46,
      "outputs": []
    },
    {
      "cell_type": "markdown",
      "source": [
        "## Antrenarea modelului"
      ],
      "metadata": {
        "id": "vOMe3h2q2KR7"
      }
    },
    {
      "cell_type": "code",
      "source": [],
      "metadata": {
        "id": "R-Dwf4UQ2MjA"
      },
      "execution_count": null,
      "outputs": []
    },
    {
      "cell_type": "markdown",
      "source": [
        "## Antrenarea modelului dupa ce am selectat numai liniile unde nr. de like-uri > 100\n",
        "\n"
      ],
      "metadata": {
        "id": "R1tpYMvh3tu_"
      }
    }
  ]
}