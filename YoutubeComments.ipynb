{
  "nbformat": 4,
  "nbformat_minor": 0,
  "metadata": {
    "colab": {
      "provenance": [],
      "authorship_tag": "ABX9TyM1PUpHKeM1YjQS6aSxWyDY",
      "include_colab_link": true
    },
    "kernelspec": {
      "name": "python3",
      "display_name": "Python 3"
    },
    "language_info": {
      "name": "python"
    }
  },
  "cells": [
    {
      "cell_type": "markdown",
      "metadata": {
        "id": "view-in-github",
        "colab_type": "text"
      },
      "source": [
        "<a href=\"https://colab.research.google.com/github/CostrunLarisa/Big-Data/blob/main/YoutubeComments.ipynb\" target=\"_parent\"><img src=\"https://colab.research.google.com/assets/colab-badge.svg\" alt=\"Open In Colab\"/></a>"
      ]
    },
    {
      "cell_type": "markdown",
      "source": [
        "## Citirea datelor\n",
        "\n",
        "Link catre dataset: https://www.kaggle.com/datasets/nipunarora8/most-liked-comments-on-youtube"
      ],
      "metadata": {
        "id": "aYdBFxIeqcW-"
      }
    },
    {
      "cell_type": "code",
      "source": [
        "pip install pyspark\n"
      ],
      "metadata": {
        "colab": {
          "base_uri": "https://localhost:8080/"
        },
        "id": "gZ_30bKmkQgF",
        "outputId": "33fed717-61e0-4f5f-a356-c4de7e17f82b"
      },
      "execution_count": 4,
      "outputs": [
        {
          "output_type": "stream",
          "name": "stdout",
          "text": [
            "Looking in indexes: https://pypi.org/simple, https://us-python.pkg.dev/colab-wheels/public/simple/\n",
            "Collecting pyspark\n",
            "  Downloading pyspark-3.4.0.tar.gz (310.8 MB)\n",
            "\u001b[2K     \u001b[90m━━━━━━━━━━━━━━━━━━━━━━━━━━━━━━━━━━━━━━━\u001b[0m \u001b[32m310.8/310.8 MB\u001b[0m \u001b[31m3.6 MB/s\u001b[0m eta \u001b[36m0:00:00\u001b[0m\n",
            "\u001b[?25h  Preparing metadata (setup.py) ... \u001b[?25l\u001b[?25hdone\n",
            "Requirement already satisfied: py4j==0.10.9.7 in /usr/local/lib/python3.10/dist-packages (from pyspark) (0.10.9.7)\n",
            "Building wheels for collected packages: pyspark\n",
            "  Building wheel for pyspark (setup.py) ... \u001b[?25l\u001b[?25hdone\n",
            "  Created wheel for pyspark: filename=pyspark-3.4.0-py2.py3-none-any.whl size=311317130 sha256=2173d6a472415343e5b92035159f9b95097f4a1a460a7b8dfd8635d594e9747b\n",
            "  Stored in directory: /root/.cache/pip/wheels/7b/1b/4b/3363a1d04368e7ff0d408e57ff57966fcdf00583774e761327\n",
            "Successfully built pyspark\n",
            "Installing collected packages: pyspark\n",
            "Successfully installed pyspark-3.4.0\n"
          ]
        }
      ]
    },
    {
      "cell_type": "code",
      "execution_count": 30,
      "metadata": {
        "colab": {
          "base_uri": "https://localhost:8080/"
        },
        "id": "CyDJrLxMjDKr",
        "outputId": "590bba2f-636b-40ee-845f-df0c7d773c6f"
      },
      "outputs": [
        {
          "output_type": "stream",
          "name": "stdout",
          "text": [
            "root\n",
            " |-- Video Name: string (nullable = true)\n",
            " |-- Channel Name: string (nullable = true)\n",
            " |-- Comment Id: string (nullable = true)\n",
            " |-- User Name: string (nullable = true)\n",
            " |-- Comment: string (nullable = true)\n",
            " |-- Date: string (nullable = true)\n",
            " |-- Likes: string (nullable = true)\n",
            "\n"
          ]
        }
      ],
      "source": [
        "from pyspark.sql import SparkSession\n",
        "spark = SparkSession.builder.appName('ytcomments').getOrCreate()\n",
        "data = spark.read.csv('sample_data/youtube_dataset.csv',inferSchema=True,\n",
        "                     header=True)\n",
        "data.printSchema()"
      ]
    },
    {
      "cell_type": "markdown",
      "source": [
        "## Data Preprocessing\n",
        "\n",
        "Vom elimina coloana \"User Name\", deoarece nu este un element relevant in analiza noastra."
      ],
      "metadata": {
        "id": "Uwdco7A8qHky"
      }
    },
    {
      "cell_type": "code",
      "source": [
        "# Stergem liniile care au coloana de like-uri sau comentariu null\n",
        "\n",
        "data = data.na.drop(subset=[\"Likes\", \"Comment\"])\n",
        "data = data.drop(\"User Name\")\n",
        "data.printSchema()\n",
        "data.columns"
      ],
      "metadata": {
        "colab": {
          "base_uri": "https://localhost:8080/"
        },
        "id": "W1GFHAPilzy8",
        "outputId": "09010232-2da6-45e0-cbcf-d2153379b01e"
      },
      "execution_count": 31,
      "outputs": [
        {
          "output_type": "stream",
          "name": "stdout",
          "text": [
            "root\n",
            " |-- Video Name: string (nullable = true)\n",
            " |-- Channel Name: string (nullable = true)\n",
            " |-- Comment Id: string (nullable = true)\n",
            " |-- Comment: string (nullable = true)\n",
            " |-- Date: string (nullable = true)\n",
            " |-- Likes: string (nullable = true)\n",
            "\n"
          ]
        },
        {
          "output_type": "execute_result",
          "data": {
            "text/plain": [
              "['Video Name', 'Channel Name', 'Comment Id', 'Comment', 'Date', 'Likes']"
            ]
          },
          "metadata": {},
          "execution_count": 31
        }
      ]
    },
    {
      "cell_type": "code",
      "source": [
        "from pyspark.sql.functions import length\n",
        "\n",
        "#Adaugam o coloana noua, Comment_Length, pentru a evita procesarea fiecarei linii\n",
        "\n",
        "data = data.withColumn(\"Comment_Length\", length(data[\"Comment\"]))\n",
        "data.columns"
      ],
      "metadata": {
        "colab": {
          "base_uri": "https://localhost:8080/"
        },
        "id": "dl3QhIVa0od_",
        "outputId": "f9125987-a871-4288-becd-063743a2101f"
      },
      "execution_count": 32,
      "outputs": [
        {
          "output_type": "execute_result",
          "data": {
            "text/plain": [
              "['Video Name',\n",
              " 'Channel Name',\n",
              " 'Comment Id',\n",
              " 'Comment',\n",
              " 'Date',\n",
              " 'Likes',\n",
              " 'Comment_Length']"
            ]
          },
          "metadata": {},
          "execution_count": 32
        }
      ]
    },
    {
      "cell_type": "markdown",
      "source": [
        "Vom transforma coloana Date in tipul de date Date in format 'yyyy-MM-dd' pentru a calcula care a fost nr. de zile care a trecut de la data publicarii comentariului pana in prezent."
      ],
      "metadata": {
        "id": "YniiPerztjk6"
      }
    },
    {
      "cell_type": "code",
      "source": [
        "from pyspark.sql.functions import current_date, datediff\n",
        "from pyspark.sql.functions import substring\n",
        "from pyspark.sql.functions import to_date\n",
        "\n",
        "data = data.withColumn('Date', substring(data['Date'], 1, 10))\n",
        "data = data.withColumn('Date', to_date(data['Date'], 'yyyy-MM-dd'))\n",
        "updated_data = data.withColumn('Days_Passed', datediff(current_date(), data['Date']))\n",
        "updated_data = updated_data.drop('Date')"
      ],
      "metadata": {
        "colab": {
          "base_uri": "https://localhost:8080/"
        },
        "id": "OOKuztsbt2Dr",
        "outputId": "86f9499d-5e5f-4f8b-e082-8f566283de26"
      },
      "execution_count": 39,
      "outputs": [
        {
          "output_type": "stream",
          "name": "stdout",
          "text": [
            "+--------------------+-------------+--------------------+--------------------+------+--------------+-----------+\n",
            "|          Video Name| Channel Name|          Comment Id|             Comment| Likes|Comment_Length|Days_Passed|\n",
            "+--------------------+-------------+--------------------+--------------------+------+--------------+-----------+\n",
            "|Luis Fonsi - Desp...|LuisFonsiVEVO|UgwV0tapZzaFxdYm1...|The people who li...| 98280|            63|       1043|\n",
            "|Luis Fonsi - Desp...|LuisFonsiVEVO|UgzXUsI6yrRjTKNAS...|Let's be honest t...|    13|            67|       1013|\n",
            "|Luis Fonsi - Desp...|LuisFonsiVEVO|UgzryH8U6Dz_yBmIg...|3.2 Million comme...|370547|            51|       1191|\n",
            "|Luis Fonsi - Desp...|LuisFonsiVEVO|UgzPg7VsuRTwJf77j...|claim your “here ...|   763|            77|       1014|\n",
            "|Luis Fonsi - Desp...|LuisFonsiVEVO|Ugw61yKNdyVJ5T4R_...|The ones who are ...|    94|            56|       1014|\n",
            "|Luis Fonsi - Desp...|LuisFonsiVEVO|UgxaUPmMyW0KD8kqi...|  Kimler burda😂🥰🌹|    45|            15|       1014|\n",
            "|Luis Fonsi - Desp...|LuisFonsiVEVO|UgxcqxyEw2jU7Kvho...|The first viewer ...| 36446|            56|       1032|\n",
            "|Luis Fonsi - Desp...|LuisFonsiVEVO|Ugy-CwNxTeLKUuYOX...|Just imagine how ...|   142|            51|       1013|\n",
            "|Luis Fonsi - Desp...|LuisFonsiVEVO|UgwxXGcEfq1XTFgIH...|3.5 M Comments if...|    10|            48|       1013|\n",
            "|Luis Fonsi - Desp...|LuisFonsiVEVO|UgzCmYFAMK8fY5_cH...|*Let`s Go 7 Billi...|   109|            85|       1014|\n",
            "|Luis Fonsi - Desp...|LuisFonsiVEVO|UgwOBGutUxio5Z2MW...|Who just came to ...|321690|            33|       1514|\n",
            "|Luis Fonsi - Desp...|LuisFonsiVEVO|UgysG0YRk2F8mNTpI...|I’ll see you guys...|     8|            69|       1013|\n",
            "|Luis Fonsi - Desp...|LuisFonsiVEVO|UgxMNFdhkeVqZluoj...|Imagine how many ...|   166|            64|       1015|\n",
            "|Luis Fonsi - Desp...|LuisFonsiVEVO|UgyXh-VgAqQWuK59m...|           Hey mikee|     7|             9|       1013|\n",
            "|Luis Fonsi - Desp...|LuisFonsiVEVO|Ugz05YImGPOlc2ENG...|“ This Is Record ...|     0|            64|       1014|\n",
            "|Luis Fonsi - Desp...|LuisFonsiVEVO|UgwIbTEMuIANZd27z...|*Popular opinion:...|   114|            66|       1015|\n",
            "|Luis Fonsi - Desp...|LuisFonsiVEVO|Ugx1_hKb86mi5_jyq...|Get your “Before ...| 10412|            40|       1056|\n",
            "|Luis Fonsi - Desp...|LuisFonsiVEVO|UgzgFMG-7p_PmS4bF...|*Officially Annou...|     5|            73|       1013|\n",
            "|Luis Fonsi - Desp...|LuisFonsiVEVO|Ugybqlz0NN2lVWTPh...|The people who li...|     2|            63|       1014|\n",
            "|Luis Fonsi - Desp...|LuisFonsiVEVO|Ugzgrrjq6Li_20GOP...|*I edited this co...|  8075|            55|       1016|\n",
            "+--------------------+-------------+--------------------+--------------------+------+--------------+-----------+\n",
            "only showing top 20 rows\n",
            "\n"
          ]
        }
      ]
    },
    {
      "cell_type": "code",
      "source": [
        "data = updated_data\n",
        "data.show()"
      ],
      "metadata": {
        "colab": {
          "base_uri": "https://localhost:8080/"
        },
        "id": "zgso8Y-FzGMS",
        "outputId": "6e4ea3e5-e7a0-4bd8-f1b1-4a204b060754"
      },
      "execution_count": 40,
      "outputs": [
        {
          "output_type": "stream",
          "name": "stdout",
          "text": [
            "+--------------------+-------------+--------------------+--------------------+------+--------------+-----------+\n",
            "|          Video Name| Channel Name|          Comment Id|             Comment| Likes|Comment_Length|Days_Passed|\n",
            "+--------------------+-------------+--------------------+--------------------+------+--------------+-----------+\n",
            "|Luis Fonsi - Desp...|LuisFonsiVEVO|UgwV0tapZzaFxdYm1...|The people who li...| 98280|            63|       1043|\n",
            "|Luis Fonsi - Desp...|LuisFonsiVEVO|UgzXUsI6yrRjTKNAS...|Let's be honest t...|    13|            67|       1013|\n",
            "|Luis Fonsi - Desp...|LuisFonsiVEVO|UgzryH8U6Dz_yBmIg...|3.2 Million comme...|370547|            51|       1191|\n",
            "|Luis Fonsi - Desp...|LuisFonsiVEVO|UgzPg7VsuRTwJf77j...|claim your “here ...|   763|            77|       1014|\n",
            "|Luis Fonsi - Desp...|LuisFonsiVEVO|Ugw61yKNdyVJ5T4R_...|The ones who are ...|    94|            56|       1014|\n",
            "|Luis Fonsi - Desp...|LuisFonsiVEVO|UgxaUPmMyW0KD8kqi...|  Kimler burda😂🥰🌹|    45|            15|       1014|\n",
            "|Luis Fonsi - Desp...|LuisFonsiVEVO|UgxcqxyEw2jU7Kvho...|The first viewer ...| 36446|            56|       1032|\n",
            "|Luis Fonsi - Desp...|LuisFonsiVEVO|Ugy-CwNxTeLKUuYOX...|Just imagine how ...|   142|            51|       1013|\n",
            "|Luis Fonsi - Desp...|LuisFonsiVEVO|UgwxXGcEfq1XTFgIH...|3.5 M Comments if...|    10|            48|       1013|\n",
            "|Luis Fonsi - Desp...|LuisFonsiVEVO|UgzCmYFAMK8fY5_cH...|*Let`s Go 7 Billi...|   109|            85|       1014|\n",
            "|Luis Fonsi - Desp...|LuisFonsiVEVO|UgwOBGutUxio5Z2MW...|Who just came to ...|321690|            33|       1514|\n",
            "|Luis Fonsi - Desp...|LuisFonsiVEVO|UgysG0YRk2F8mNTpI...|I’ll see you guys...|     8|            69|       1013|\n",
            "|Luis Fonsi - Desp...|LuisFonsiVEVO|UgxMNFdhkeVqZluoj...|Imagine how many ...|   166|            64|       1015|\n",
            "|Luis Fonsi - Desp...|LuisFonsiVEVO|UgyXh-VgAqQWuK59m...|           Hey mikee|     7|             9|       1013|\n",
            "|Luis Fonsi - Desp...|LuisFonsiVEVO|Ugz05YImGPOlc2ENG...|“ This Is Record ...|     0|            64|       1014|\n",
            "|Luis Fonsi - Desp...|LuisFonsiVEVO|UgwIbTEMuIANZd27z...|*Popular opinion:...|   114|            66|       1015|\n",
            "|Luis Fonsi - Desp...|LuisFonsiVEVO|Ugx1_hKb86mi5_jyq...|Get your “Before ...| 10412|            40|       1056|\n",
            "|Luis Fonsi - Desp...|LuisFonsiVEVO|UgzgFMG-7p_PmS4bF...|*Officially Annou...|     5|            73|       1013|\n",
            "|Luis Fonsi - Desp...|LuisFonsiVEVO|Ugybqlz0NN2lVWTPh...|The people who li...|     2|            63|       1014|\n",
            "|Luis Fonsi - Desp...|LuisFonsiVEVO|Ugzgrrjq6Li_20GOP...|*I edited this co...|  8075|            55|       1016|\n",
            "+--------------------+-------------+--------------------+--------------------+------+--------------+-----------+\n",
            "only showing top 20 rows\n",
            "\n"
          ]
        }
      ]
    },
    {
      "cell_type": "markdown",
      "source": [
        "## Adaugarea unui UDF care calculeaza nr. de emoji-uri dintr-un comentariu"
      ],
      "metadata": {
        "id": "mam2McPi09E3"
      }
    },
    {
      "cell_type": "code",
      "source": [
        "pip install emoji"
      ],
      "metadata": {
        "colab": {
          "base_uri": "https://localhost:8080/"
        },
        "id": "7oC7h6kh2NZq",
        "outputId": "44300459-8fc8-4d3e-cf9b-46d924cd15f7"
      },
      "execution_count": 42,
      "outputs": [
        {
          "output_type": "stream",
          "name": "stdout",
          "text": [
            "Looking in indexes: https://pypi.org/simple, https://us-python.pkg.dev/colab-wheels/public/simple/\n",
            "Collecting emoji\n",
            "  Downloading emoji-2.5.1.tar.gz (356 kB)\n",
            "\u001b[2K     \u001b[90m━━━━━━━━━━━━━━━━━━━━━━━━━━━━━━━━━━━━━━━\u001b[0m \u001b[32m356.3/356.3 kB\u001b[0m \u001b[31m8.3 MB/s\u001b[0m eta \u001b[36m0:00:00\u001b[0m\n",
            "\u001b[?25h  Preparing metadata (setup.py) ... \u001b[?25l\u001b[?25hdone\n",
            "Building wheels for collected packages: emoji\n",
            "  Building wheel for emoji (setup.py) ... \u001b[?25l\u001b[?25hdone\n",
            "  Created wheel for emoji: filename=emoji-2.5.1-py2.py3-none-any.whl size=351210 sha256=cdc624d47c1d590f9b1db9cf34daeeb3f1c72631deb7cef15226333ac9608b0a\n",
            "  Stored in directory: /root/.cache/pip/wheels/51/92/44/e2ef13f803aa08711819357e6de0c5fe67b874671141413565\n",
            "Successfully built emoji\n",
            "Installing collected packages: emoji\n",
            "Successfully installed emoji-2.5.1\n"
          ]
        }
      ]
    },
    {
      "cell_type": "code",
      "source": [
        "import emoji\n",
        "from pyspark.sql.functions import udf\n",
        "from pyspark.sql.types import IntegerType\n",
        "\n",
        "def count_emojis(text):\n",
        "    return emoji.emoji_count(text);\n",
        "\n",
        "\n",
        "# Register the UDF\n",
        "count_emojis_udf = udf(count_emojis, IntegerType())\n",
        "spark.udf.register(\"count_emojis\", count_emojis_udf)\n"
      ],
      "metadata": {
        "colab": {
          "base_uri": "https://localhost:8080/"
        },
        "id": "6EmmPHmJ1D2i",
        "outputId": "f5225cba-c775-4d7f-8ff7-34c75567aac0"
      },
      "execution_count": 47,
      "outputs": [
        {
          "output_type": "execute_result",
          "data": {
            "text/plain": [
              "<function __main__.count_emojis(text)>"
            ]
          },
          "metadata": {},
          "execution_count": 47
        }
      ]
    },
    {
      "cell_type": "markdown",
      "source": [
        "### Adaugam o coloana noua 'Emojis_number'"
      ],
      "metadata": {
        "id": "21A-_WVa1d0a"
      }
    },
    {
      "cell_type": "code",
      "source": [
        "from pyspark.sql.functions import col\n",
        "\n",
        "data = data.withColumn('Emojis_number', count_emojis_udf(col('Comment')))\n",
        "data.show()"
      ],
      "metadata": {
        "colab": {
          "base_uri": "https://localhost:8080/"
        },
        "id": "0c3AZHn71lB6",
        "outputId": "b49fabbd-5f08-418b-a412-6818bf918c3e"
      },
      "execution_count": 48,
      "outputs": [
        {
          "output_type": "stream",
          "name": "stdout",
          "text": [
            "+--------------------+-------------+--------------------+--------------------+------+--------------+-----------+-------------+\n",
            "|          Video Name| Channel Name|          Comment Id|             Comment| Likes|Comment_Length|Days_Passed|Emojis_number|\n",
            "+--------------------+-------------+--------------------+--------------------+------+--------------+-----------+-------------+\n",
            "|Luis Fonsi - Desp...|LuisFonsiVEVO|UgwV0tapZzaFxdYm1...|The people who li...| 98280|            63|       1043|            0|\n",
            "|Luis Fonsi - Desp...|LuisFonsiVEVO|UgzXUsI6yrRjTKNAS...|Let's be honest t...|    13|            67|       1013|            0|\n",
            "|Luis Fonsi - Desp...|LuisFonsiVEVO|UgzryH8U6Dz_yBmIg...|3.2 Million comme...|370547|            51|       1191|            0|\n",
            "|Luis Fonsi - Desp...|LuisFonsiVEVO|UgzPg7VsuRTwJf77j...|claim your “here ...|   763|            77|       1014|            1|\n",
            "|Luis Fonsi - Desp...|LuisFonsiVEVO|Ugw61yKNdyVJ5T4R_...|The ones who are ...|    94|            56|       1014|            0|\n",
            "|Luis Fonsi - Desp...|LuisFonsiVEVO|UgxaUPmMyW0KD8kqi...|  Kimler burda😂🥰🌹|    45|            15|       1014|            3|\n",
            "|Luis Fonsi - Desp...|LuisFonsiVEVO|UgxcqxyEw2jU7Kvho...|The first viewer ...| 36446|            56|       1032|            0|\n",
            "|Luis Fonsi - Desp...|LuisFonsiVEVO|Ugy-CwNxTeLKUuYOX...|Just imagine how ...|   142|            51|       1013|            0|\n",
            "|Luis Fonsi - Desp...|LuisFonsiVEVO|UgwxXGcEfq1XTFgIH...|3.5 M Comments if...|    10|            48|       1013|            0|\n",
            "|Luis Fonsi - Desp...|LuisFonsiVEVO|UgzCmYFAMK8fY5_cH...|*Let`s Go 7 Billi...|   109|            85|       1014|            0|\n",
            "|Luis Fonsi - Desp...|LuisFonsiVEVO|UgwOBGutUxio5Z2MW...|Who just came to ...|321690|            33|       1514|            0|\n",
            "|Luis Fonsi - Desp...|LuisFonsiVEVO|UgysG0YRk2F8mNTpI...|I’ll see you guys...|     8|            69|       1013|            0|\n",
            "|Luis Fonsi - Desp...|LuisFonsiVEVO|UgxMNFdhkeVqZluoj...|Imagine how many ...|   166|            64|       1015|            0|\n",
            "|Luis Fonsi - Desp...|LuisFonsiVEVO|UgyXh-VgAqQWuK59m...|           Hey mikee|     7|             9|       1013|            0|\n",
            "|Luis Fonsi - Desp...|LuisFonsiVEVO|Ugz05YImGPOlc2ENG...|“ This Is Record ...|     0|            64|       1014|            0|\n",
            "|Luis Fonsi - Desp...|LuisFonsiVEVO|UgwIbTEMuIANZd27z...|*Popular opinion:...|   114|            66|       1015|            0|\n",
            "|Luis Fonsi - Desp...|LuisFonsiVEVO|Ugx1_hKb86mi5_jyq...|Get your “Before ...| 10412|            40|       1056|            0|\n",
            "|Luis Fonsi - Desp...|LuisFonsiVEVO|UgzgFMG-7p_PmS4bF...|*Officially Annou...|     5|            73|       1013|            0|\n",
            "|Luis Fonsi - Desp...|LuisFonsiVEVO|Ugybqlz0NN2lVWTPh...|The people who li...|     2|            63|       1014|            0|\n",
            "|Luis Fonsi - Desp...|LuisFonsiVEVO|Ugzgrrjq6Li_20GOP...|*I edited this co...|  8075|            55|       1016|            0|\n",
            "+--------------------+-------------+--------------------+--------------------+------+--------------+-----------+-------------+\n",
            "only showing top 20 rows\n",
            "\n"
          ]
        }
      ]
    },
    {
      "cell_type": "markdown",
      "source": [
        "### Vrem sa analizam cate linii din setul de date au emoji-uri pentru a stabili relevanta acestei coloane (Emojis_number)"
      ],
      "metadata": {
        "id": "mH-TabqF26_0"
      }
    },
    {
      "cell_type": "code",
      "source": [
        "from pyspark.sql.functions import col\n",
        "\n",
        "filtered_data = data.filter(col('Emojis_number') != 0)\n",
        "print('Total rows: ' + str(data.count()))\n",
        "print('Rows with emojis: ' + str(filtered_data.count()))"
      ],
      "metadata": {
        "colab": {
          "base_uri": "https://localhost:8080/"
        },
        "id": "beTg1h8d2-uq",
        "outputId": "c621b194-311d-404b-ac8a-e09363176f32"
      },
      "execution_count": 58,
      "outputs": [
        {
          "output_type": "stream",
          "name": "stdout",
          "text": [
            "Total rows: 14829\n",
            "Rows with emojis: 2865\n"
          ]
        }
      ]
    },
    {
      "cell_type": "markdown",
      "source": [
        "Vom adauga o coloana de label pentru eticheta, care va fi 1 sau 0 pentru cazurile in care un comentariu este considerat cel mai apreciat sau nu.\n",
        "\n",
        "Un comentariu este considerat cel mai apreciat daca nr. de like-uri este > 1000."
      ],
      "metadata": {
        "id": "5ZkhR50-lVVt"
      }
    },
    {
      "cell_type": "markdown",
      "source": [
        "## Adaugam o noua coloana *label*."
      ],
      "metadata": {
        "id": "wJIy_w6YnX64"
      }
    },
    {
      "cell_type": "code",
      "source": [
        "from pyspark.sql.functions import lit\n",
        "\n",
        "data = data.withColumn('Label', lit(0))"
      ],
      "metadata": {
        "id": "073fwwbilTKq"
      },
      "execution_count": 20,
      "outputs": []
    },
    {
      "cell_type": "markdown",
      "source": [
        "### Pentru liniile unde Likes > 1000 modificam valoarea Label in 1."
      ],
      "metadata": {
        "id": "P6Cv07lin6C8"
      }
    },
    {
      "cell_type": "code",
      "source": [
        "from pyspark.sql.functions import when\n",
        "\n",
        "# Create a new column 'NewLabel' with the modified values\n",
        "updated_data = data.withColumn('Temp_label', when(data.Likes > 1000, 1).otherwise(data.Label))\n",
        "\n",
        "# Drop the original 'Label' column and rename 'NewLabel' to 'Label'\n",
        "updated_data = updated_data.drop('Label').withColumnRenamed('Temp_label', 'Label')\n"
      ],
      "metadata": {
        "colab": {
          "base_uri": "https://localhost:8080/"
        },
        "id": "2uuzyjTIniza",
        "outputId": "2e569cbd-841d-44e9-8429-4d8265c4b212"
      },
      "execution_count": 21,
      "outputs": [
        {
          "output_type": "stream",
          "name": "stdout",
          "text": [
            "+--------------------+-------------+--------------------+--------------------+--------------------+------+--------------+-----+\n",
            "|          Video Name| Channel Name|          Comment Id|             Comment|                Date| Likes|Comment_Length|Label|\n",
            "+--------------------+-------------+--------------------+--------------------+--------------------+------+--------------+-----+\n",
            "|Luis Fonsi - Desp...|LuisFonsiVEVO|UgwV0tapZzaFxdYm1...|The people who li...|2020-08-10T20:00:43Z| 98280|            63|    1|\n",
            "|Luis Fonsi - Desp...|LuisFonsiVEVO|UgzXUsI6yrRjTKNAS...|Let's be honest t...|2020-09-09T03:41:34Z|    13|            67|    0|\n",
            "|Luis Fonsi - Desp...|LuisFonsiVEVO|UgzryH8U6Dz_yBmIg...|3.2 Million comme...|2020-03-15T21:11:08Z|370547|            51|    1|\n",
            "|Luis Fonsi - Desp...|LuisFonsiVEVO|UgzPg7VsuRTwJf77j...|claim your “here ...|2020-09-08T06:01:36Z|   763|            77|    0|\n",
            "|Luis Fonsi - Desp...|LuisFonsiVEVO|Ugw61yKNdyVJ5T4R_...|The ones who are ...|2020-09-08T08:44:47Z|    94|            56|    0|\n",
            "|Luis Fonsi - Desp...|LuisFonsiVEVO|UgxaUPmMyW0KD8kqi...|  Kimler burda😂🥰🌹|2020-09-08T07:28:39Z|    45|            15|    0|\n",
            "|Luis Fonsi - Desp...|LuisFonsiVEVO|UgxcqxyEw2jU7Kvho...|The first viewer ...|2020-08-21T23:15:01Z| 36446|            56|    1|\n",
            "|Luis Fonsi - Desp...|LuisFonsiVEVO|Ugy-CwNxTeLKUuYOX...|Just imagine how ...|2020-09-09T05:43:47Z|   142|            51|    0|\n",
            "|Luis Fonsi - Desp...|LuisFonsiVEVO|UgwxXGcEfq1XTFgIH...|3.5 M Comments if...|2020-09-09T08:46:45Z|    10|            48|    0|\n",
            "|Luis Fonsi - Desp...|LuisFonsiVEVO|UgzCmYFAMK8fY5_cH...|*Let`s Go 7 Billi...|2020-09-08T13:51:36Z|   109|            85|    0|\n",
            "|Luis Fonsi - Desp...|LuisFonsiVEVO|UgwOBGutUxio5Z2MW...|Who just came to ...|2019-04-27T06:58:42Z|321690|            33|    1|\n",
            "|Luis Fonsi - Desp...|LuisFonsiVEVO|UgysG0YRk2F8mNTpI...|I’ll see you guys...|2020-09-09T04:09:27Z|     8|            69|    0|\n",
            "|Luis Fonsi - Desp...|LuisFonsiVEVO|UgxMNFdhkeVqZluoj...|Imagine how many ...|2020-09-07T16:45:18Z|   166|            64|    0|\n",
            "|Luis Fonsi - Desp...|LuisFonsiVEVO|UgyXh-VgAqQWuK59m...|           Hey mikee|2020-09-09T09:38:34Z|     7|             9|    0|\n",
            "|Luis Fonsi - Desp...|LuisFonsiVEVO|Ugz05YImGPOlc2ENG...|“ This Is Record ...|2020-09-08T14:12:03Z|     0|            64|    0|\n",
            "|Luis Fonsi - Desp...|LuisFonsiVEVO|UgwIbTEMuIANZd27z...|*Popular opinion:...|2020-09-07T13:20:56Z|   114|            66|    0|\n",
            "|Luis Fonsi - Desp...|LuisFonsiVEVO|Ugx1_hKb86mi5_jyq...|Get your “Before ...|2020-07-28T12:52:44Z| 10412|            40|    1|\n",
            "|Luis Fonsi - Desp...|LuisFonsiVEVO|UgzgFMG-7p_PmS4bF...|*Officially Annou...|2020-09-09T09:32:43Z|     5|            73|    0|\n",
            "|Luis Fonsi - Desp...|LuisFonsiVEVO|Ugybqlz0NN2lVWTPh...|The people who li...|2020-09-08T12:40:02Z|     2|            63|    0|\n",
            "|Luis Fonsi - Desp...|LuisFonsiVEVO|Ugzgrrjq6Li_20GOP...|*I edited this co...|2020-09-06T13:34:02Z|  8075|            55|    1|\n",
            "+--------------------+-------------+--------------------+--------------------+--------------------+------+--------------+-----+\n",
            "only showing top 20 rows\n",
            "\n"
          ]
        }
      ]
    },
    {
      "cell_type": "code",
      "source": [
        "data = updated_data\n",
        "data.show()"
      ],
      "metadata": {
        "colab": {
          "base_uri": "https://localhost:8080/"
        },
        "id": "6HYUbNNHo_4V",
        "outputId": "b32a1aef-2f2f-49f6-9467-731ee475721d"
      },
      "execution_count": 22,
      "outputs": [
        {
          "output_type": "stream",
          "name": "stdout",
          "text": [
            "+--------------------+-------------+--------------------+--------------------+--------------------+------+--------------+-----+\n",
            "|          Video Name| Channel Name|          Comment Id|             Comment|                Date| Likes|Comment_Length|Label|\n",
            "+--------------------+-------------+--------------------+--------------------+--------------------+------+--------------+-----+\n",
            "|Luis Fonsi - Desp...|LuisFonsiVEVO|UgwV0tapZzaFxdYm1...|The people who li...|2020-08-10T20:00:43Z| 98280|            63|    1|\n",
            "|Luis Fonsi - Desp...|LuisFonsiVEVO|UgzXUsI6yrRjTKNAS...|Let's be honest t...|2020-09-09T03:41:34Z|    13|            67|    0|\n",
            "|Luis Fonsi - Desp...|LuisFonsiVEVO|UgzryH8U6Dz_yBmIg...|3.2 Million comme...|2020-03-15T21:11:08Z|370547|            51|    1|\n",
            "|Luis Fonsi - Desp...|LuisFonsiVEVO|UgzPg7VsuRTwJf77j...|claim your “here ...|2020-09-08T06:01:36Z|   763|            77|    0|\n",
            "|Luis Fonsi - Desp...|LuisFonsiVEVO|Ugw61yKNdyVJ5T4R_...|The ones who are ...|2020-09-08T08:44:47Z|    94|            56|    0|\n",
            "|Luis Fonsi - Desp...|LuisFonsiVEVO|UgxaUPmMyW0KD8kqi...|  Kimler burda😂🥰🌹|2020-09-08T07:28:39Z|    45|            15|    0|\n",
            "|Luis Fonsi - Desp...|LuisFonsiVEVO|UgxcqxyEw2jU7Kvho...|The first viewer ...|2020-08-21T23:15:01Z| 36446|            56|    1|\n",
            "|Luis Fonsi - Desp...|LuisFonsiVEVO|Ugy-CwNxTeLKUuYOX...|Just imagine how ...|2020-09-09T05:43:47Z|   142|            51|    0|\n",
            "|Luis Fonsi - Desp...|LuisFonsiVEVO|UgwxXGcEfq1XTFgIH...|3.5 M Comments if...|2020-09-09T08:46:45Z|    10|            48|    0|\n",
            "|Luis Fonsi - Desp...|LuisFonsiVEVO|UgzCmYFAMK8fY5_cH...|*Let`s Go 7 Billi...|2020-09-08T13:51:36Z|   109|            85|    0|\n",
            "|Luis Fonsi - Desp...|LuisFonsiVEVO|UgwOBGutUxio5Z2MW...|Who just came to ...|2019-04-27T06:58:42Z|321690|            33|    1|\n",
            "|Luis Fonsi - Desp...|LuisFonsiVEVO|UgysG0YRk2F8mNTpI...|I’ll see you guys...|2020-09-09T04:09:27Z|     8|            69|    0|\n",
            "|Luis Fonsi - Desp...|LuisFonsiVEVO|UgxMNFdhkeVqZluoj...|Imagine how many ...|2020-09-07T16:45:18Z|   166|            64|    0|\n",
            "|Luis Fonsi - Desp...|LuisFonsiVEVO|UgyXh-VgAqQWuK59m...|           Hey mikee|2020-09-09T09:38:34Z|     7|             9|    0|\n",
            "|Luis Fonsi - Desp...|LuisFonsiVEVO|Ugz05YImGPOlc2ENG...|“ This Is Record ...|2020-09-08T14:12:03Z|     0|            64|    0|\n",
            "|Luis Fonsi - Desp...|LuisFonsiVEVO|UgwIbTEMuIANZd27z...|*Popular opinion:...|2020-09-07T13:20:56Z|   114|            66|    0|\n",
            "|Luis Fonsi - Desp...|LuisFonsiVEVO|Ugx1_hKb86mi5_jyq...|Get your “Before ...|2020-07-28T12:52:44Z| 10412|            40|    1|\n",
            "|Luis Fonsi - Desp...|LuisFonsiVEVO|UgzgFMG-7p_PmS4bF...|*Officially Annou...|2020-09-09T09:32:43Z|     5|            73|    0|\n",
            "|Luis Fonsi - Desp...|LuisFonsiVEVO|Ugybqlz0NN2lVWTPh...|The people who li...|2020-09-08T12:40:02Z|     2|            63|    0|\n",
            "|Luis Fonsi - Desp...|LuisFonsiVEVO|Ugzgrrjq6Li_20GOP...|*I edited this co...|2020-09-06T13:34:02Z|  8075|            55|    1|\n",
            "+--------------------+-------------+--------------------+--------------------+--------------------+------+--------------+-----+\n",
            "only showing top 20 rows\n",
            "\n"
          ]
        }
      ]
    },
    {
      "cell_type": "markdown",
      "source": [
        "### Utilizarea gruparii si agregarii datelor (agg si groupBy) in vederea obtinerii celui mai comentat video de pe fiecare canal"
      ],
      "metadata": {
        "id": "ugucvwfMqbAT"
      }
    },
    {
      "cell_type": "code",
      "source": [],
      "metadata": {
        "id": "OLLN6t1bqZrg"
      },
      "execution_count": null,
      "outputs": []
    },
    {
      "cell_type": "markdown",
      "source": [
        "## Formatarea pentru MLlib"
      ],
      "metadata": {
        "id": "XmJD1nebqVB-"
      }
    },
    {
      "cell_type": "code",
      "source": [
        "from pyspark.ml.feature import VectorAssembler\n",
        "from pyspark.sql.types import ArrayType, DoubleType\n",
        "\n",
        "data = data.withColumn(\"Likes\", data[\"Likes\"].cast(\"double\"))\n",
        "assembler = VectorAssembler(inputCols=['Likes', 'Comment_Length'],\n",
        "                            outputCol='features')\n",
        "\n",
        "output = assembler.transform(data)\n",
        "final_data = output.select('features','Video Name')\n",
        "\n",
        "# Show the DataFrame\n",
        "final_data.show()"
      ],
      "metadata": {
        "colab": {
          "base_uri": "https://localhost:8080/"
        },
        "id": "Huizcxi9qQSs",
        "outputId": "ef035b84-dfb4-4250-9ab0-56c1176b8632"
      },
      "execution_count": 9,
      "outputs": [
        {
          "output_type": "stream",
          "name": "stdout",
          "text": [
            "+---------------+--------------------+\n",
            "|       features|          Video Name|\n",
            "+---------------+--------------------+\n",
            "| [98280.0,63.0]|Luis Fonsi - Desp...|\n",
            "|    [13.0,67.0]|Luis Fonsi - Desp...|\n",
            "|[370547.0,51.0]|Luis Fonsi - Desp...|\n",
            "|   [763.0,77.0]|Luis Fonsi - Desp...|\n",
            "|    [94.0,56.0]|Luis Fonsi - Desp...|\n",
            "|    [45.0,15.0]|Luis Fonsi - Desp...|\n",
            "| [36446.0,56.0]|Luis Fonsi - Desp...|\n",
            "|   [142.0,51.0]|Luis Fonsi - Desp...|\n",
            "|    [10.0,48.0]|Luis Fonsi - Desp...|\n",
            "|   [109.0,85.0]|Luis Fonsi - Desp...|\n",
            "|[321690.0,33.0]|Luis Fonsi - Desp...|\n",
            "|     [8.0,69.0]|Luis Fonsi - Desp...|\n",
            "|   [166.0,64.0]|Luis Fonsi - Desp...|\n",
            "|      [7.0,9.0]|Luis Fonsi - Desp...|\n",
            "|     [0.0,64.0]|Luis Fonsi - Desp...|\n",
            "|   [114.0,66.0]|Luis Fonsi - Desp...|\n",
            "| [10412.0,40.0]|Luis Fonsi - Desp...|\n",
            "|     [5.0,73.0]|Luis Fonsi - Desp...|\n",
            "|     [2.0,63.0]|Luis Fonsi - Desp...|\n",
            "|  [8075.0,55.0]|Luis Fonsi - Desp...|\n",
            "+---------------+--------------------+\n",
            "only showing top 20 rows\n",
            "\n"
          ]
        }
      ]
    },
    {
      "cell_type": "markdown",
      "source": [
        "## Impartirea setului de date"
      ],
      "metadata": {
        "id": "Nygd7cIS2A9-"
      }
    },
    {
      "cell_type": "code",
      "source": [
        "train_yt, test_yt = final_data.randomSplit([0.7,0.3])"
      ],
      "metadata": {
        "id": "ZAmVxXgi2DFh"
      },
      "execution_count": 10,
      "outputs": []
    },
    {
      "cell_type": "markdown",
      "source": [
        "## Antrenarea modelului"
      ],
      "metadata": {
        "id": "vOMe3h2q2KR7"
      }
    },
    {
      "cell_type": "code",
      "source": [
        "from pyspark.ml.classification import LogisticRegression\n",
        "\n",
        "lr_yt = LogisticRegression(labelCol='features')"
      ],
      "metadata": {
        "id": "R-Dwf4UQ2MjA"
      },
      "execution_count": 11,
      "outputs": []
    },
    {
      "cell_type": "code",
      "source": [
        "fitted_yt_model = lr_yt.fit(train_yt)"
      ],
      "metadata": {
        "colab": {
          "base_uri": "https://localhost:8080/",
          "height": 318
        },
        "id": "r3KaC2Dcj4mt",
        "outputId": "13e50f57-dd00-4e68-9af8-69b37ab1632e"
      },
      "execution_count": 12,
      "outputs": [
        {
          "output_type": "error",
          "ename": "IllegalArgumentException",
          "evalue": "ignored",
          "traceback": [
            "\u001b[0;31m---------------------------------------------------------------------------\u001b[0m",
            "\u001b[0;31mIllegalArgumentException\u001b[0m                  Traceback (most recent call last)",
            "\u001b[0;32m<ipython-input-12-2f8c135c02f9>\u001b[0m in \u001b[0;36m<cell line: 1>\u001b[0;34m()\u001b[0m\n\u001b[0;32m----> 1\u001b[0;31m \u001b[0mfitted_yt_model\u001b[0m \u001b[0;34m=\u001b[0m \u001b[0mlr_yt\u001b[0m\u001b[0;34m.\u001b[0m\u001b[0mfit\u001b[0m\u001b[0;34m(\u001b[0m\u001b[0mtrain_yt\u001b[0m\u001b[0;34m)\u001b[0m\u001b[0;34m\u001b[0m\u001b[0;34m\u001b[0m\u001b[0m\n\u001b[0m",
            "\u001b[0;32m/usr/local/lib/python3.10/dist-packages/pyspark/ml/base.py\u001b[0m in \u001b[0;36mfit\u001b[0;34m(self, dataset, params)\u001b[0m\n\u001b[1;32m    203\u001b[0m                 \u001b[0;32mreturn\u001b[0m \u001b[0mself\u001b[0m\u001b[0;34m.\u001b[0m\u001b[0mcopy\u001b[0m\u001b[0;34m(\u001b[0m\u001b[0mparams\u001b[0m\u001b[0;34m)\u001b[0m\u001b[0;34m.\u001b[0m\u001b[0m_fit\u001b[0m\u001b[0;34m(\u001b[0m\u001b[0mdataset\u001b[0m\u001b[0;34m)\u001b[0m\u001b[0;34m\u001b[0m\u001b[0;34m\u001b[0m\u001b[0m\n\u001b[1;32m    204\u001b[0m             \u001b[0;32melse\u001b[0m\u001b[0;34m:\u001b[0m\u001b[0;34m\u001b[0m\u001b[0;34m\u001b[0m\u001b[0m\n\u001b[0;32m--> 205\u001b[0;31m                 \u001b[0;32mreturn\u001b[0m \u001b[0mself\u001b[0m\u001b[0;34m.\u001b[0m\u001b[0m_fit\u001b[0m\u001b[0;34m(\u001b[0m\u001b[0mdataset\u001b[0m\u001b[0;34m)\u001b[0m\u001b[0;34m\u001b[0m\u001b[0;34m\u001b[0m\u001b[0m\n\u001b[0m\u001b[1;32m    206\u001b[0m         \u001b[0;32melse\u001b[0m\u001b[0;34m:\u001b[0m\u001b[0;34m\u001b[0m\u001b[0;34m\u001b[0m\u001b[0m\n\u001b[1;32m    207\u001b[0m             raise TypeError(\n",
            "\u001b[0;32m/usr/local/lib/python3.10/dist-packages/pyspark/ml/wrapper.py\u001b[0m in \u001b[0;36m_fit\u001b[0;34m(self, dataset)\u001b[0m\n\u001b[1;32m    379\u001b[0m \u001b[0;34m\u001b[0m\u001b[0m\n\u001b[1;32m    380\u001b[0m     \u001b[0;32mdef\u001b[0m \u001b[0m_fit\u001b[0m\u001b[0;34m(\u001b[0m\u001b[0mself\u001b[0m\u001b[0;34m,\u001b[0m \u001b[0mdataset\u001b[0m\u001b[0;34m:\u001b[0m \u001b[0mDataFrame\u001b[0m\u001b[0;34m)\u001b[0m \u001b[0;34m->\u001b[0m \u001b[0mJM\u001b[0m\u001b[0;34m:\u001b[0m\u001b[0;34m\u001b[0m\u001b[0;34m\u001b[0m\u001b[0m\n\u001b[0;32m--> 381\u001b[0;31m         \u001b[0mjava_model\u001b[0m \u001b[0;34m=\u001b[0m \u001b[0mself\u001b[0m\u001b[0;34m.\u001b[0m\u001b[0m_fit_java\u001b[0m\u001b[0;34m(\u001b[0m\u001b[0mdataset\u001b[0m\u001b[0;34m)\u001b[0m\u001b[0;34m\u001b[0m\u001b[0;34m\u001b[0m\u001b[0m\n\u001b[0m\u001b[1;32m    382\u001b[0m         \u001b[0mmodel\u001b[0m \u001b[0;34m=\u001b[0m \u001b[0mself\u001b[0m\u001b[0;34m.\u001b[0m\u001b[0m_create_model\u001b[0m\u001b[0;34m(\u001b[0m\u001b[0mjava_model\u001b[0m\u001b[0;34m)\u001b[0m\u001b[0;34m\u001b[0m\u001b[0;34m\u001b[0m\u001b[0m\n\u001b[1;32m    383\u001b[0m         \u001b[0;32mreturn\u001b[0m \u001b[0mself\u001b[0m\u001b[0;34m.\u001b[0m\u001b[0m_copyValues\u001b[0m\u001b[0;34m(\u001b[0m\u001b[0mmodel\u001b[0m\u001b[0;34m)\u001b[0m\u001b[0;34m\u001b[0m\u001b[0;34m\u001b[0m\u001b[0m\n",
            "\u001b[0;32m/usr/local/lib/python3.10/dist-packages/pyspark/ml/wrapper.py\u001b[0m in \u001b[0;36m_fit_java\u001b[0;34m(self, dataset)\u001b[0m\n\u001b[1;32m    376\u001b[0m \u001b[0;34m\u001b[0m\u001b[0m\n\u001b[1;32m    377\u001b[0m         \u001b[0mself\u001b[0m\u001b[0;34m.\u001b[0m\u001b[0m_transfer_params_to_java\u001b[0m\u001b[0;34m(\u001b[0m\u001b[0;34m)\u001b[0m\u001b[0;34m\u001b[0m\u001b[0;34m\u001b[0m\u001b[0m\n\u001b[0;32m--> 378\u001b[0;31m         \u001b[0;32mreturn\u001b[0m \u001b[0mself\u001b[0m\u001b[0;34m.\u001b[0m\u001b[0m_java_obj\u001b[0m\u001b[0;34m.\u001b[0m\u001b[0mfit\u001b[0m\u001b[0;34m(\u001b[0m\u001b[0mdataset\u001b[0m\u001b[0;34m.\u001b[0m\u001b[0m_jdf\u001b[0m\u001b[0;34m)\u001b[0m\u001b[0;34m\u001b[0m\u001b[0;34m\u001b[0m\u001b[0m\n\u001b[0m\u001b[1;32m    379\u001b[0m \u001b[0;34m\u001b[0m\u001b[0m\n\u001b[1;32m    380\u001b[0m     \u001b[0;32mdef\u001b[0m \u001b[0m_fit\u001b[0m\u001b[0;34m(\u001b[0m\u001b[0mself\u001b[0m\u001b[0;34m,\u001b[0m \u001b[0mdataset\u001b[0m\u001b[0;34m:\u001b[0m \u001b[0mDataFrame\u001b[0m\u001b[0;34m)\u001b[0m \u001b[0;34m->\u001b[0m \u001b[0mJM\u001b[0m\u001b[0;34m:\u001b[0m\u001b[0;34m\u001b[0m\u001b[0;34m\u001b[0m\u001b[0m\n",
            "\u001b[0;32m/usr/local/lib/python3.10/dist-packages/py4j/java_gateway.py\u001b[0m in \u001b[0;36m__call__\u001b[0;34m(self, *args)\u001b[0m\n\u001b[1;32m   1320\u001b[0m \u001b[0;34m\u001b[0m\u001b[0m\n\u001b[1;32m   1321\u001b[0m         \u001b[0manswer\u001b[0m \u001b[0;34m=\u001b[0m \u001b[0mself\u001b[0m\u001b[0;34m.\u001b[0m\u001b[0mgateway_client\u001b[0m\u001b[0;34m.\u001b[0m\u001b[0msend_command\u001b[0m\u001b[0;34m(\u001b[0m\u001b[0mcommand\u001b[0m\u001b[0;34m)\u001b[0m\u001b[0;34m\u001b[0m\u001b[0;34m\u001b[0m\u001b[0m\n\u001b[0;32m-> 1322\u001b[0;31m         return_value = get_return_value(\n\u001b[0m\u001b[1;32m   1323\u001b[0m             answer, self.gateway_client, self.target_id, self.name)\n\u001b[1;32m   1324\u001b[0m \u001b[0;34m\u001b[0m\u001b[0m\n",
            "\u001b[0;32m/usr/local/lib/python3.10/dist-packages/pyspark/errors/exceptions/captured.py\u001b[0m in \u001b[0;36mdeco\u001b[0;34m(*a, **kw)\u001b[0m\n\u001b[1;32m    173\u001b[0m                 \u001b[0;31m# Hide where the exception came from that shows a non-Pythonic\u001b[0m\u001b[0;34m\u001b[0m\u001b[0;34m\u001b[0m\u001b[0m\n\u001b[1;32m    174\u001b[0m                 \u001b[0;31m# JVM exception message.\u001b[0m\u001b[0;34m\u001b[0m\u001b[0;34m\u001b[0m\u001b[0m\n\u001b[0;32m--> 175\u001b[0;31m                 \u001b[0;32mraise\u001b[0m \u001b[0mconverted\u001b[0m \u001b[0;32mfrom\u001b[0m \u001b[0;32mNone\u001b[0m\u001b[0;34m\u001b[0m\u001b[0;34m\u001b[0m\u001b[0m\n\u001b[0m\u001b[1;32m    176\u001b[0m             \u001b[0;32melse\u001b[0m\u001b[0;34m:\u001b[0m\u001b[0;34m\u001b[0m\u001b[0;34m\u001b[0m\u001b[0m\n\u001b[1;32m    177\u001b[0m                 \u001b[0;32mraise\u001b[0m\u001b[0;34m\u001b[0m\u001b[0;34m\u001b[0m\u001b[0m\n",
            "\u001b[0;31mIllegalArgumentException\u001b[0m: ytComments does not exist. Available: features, Video Name"
          ]
        }
      ]
    },
    {
      "cell_type": "markdown",
      "source": [
        "## Antrenarea modelului dupa ce am selectat numai liniile unde nr. de like-uri > 100\n",
        "\n"
      ],
      "metadata": {
        "id": "R1tpYMvh3tu_"
      }
    }
  ]
}